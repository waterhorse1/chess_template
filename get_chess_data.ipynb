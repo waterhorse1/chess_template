{
 "cells": [
  {
   "cell_type": "code",
   "execution_count": 72,
   "metadata": {},
   "outputs": [],
   "source": [
    "import chess.pgn\n",
    "\n",
    "# 打开 PGN 文件\n",
    "num = 5e5\n",
    "games = []\n",
    "with open(\"lichess_db_standard_rated_2017-08.pgn\") as f:\n",
    "\n",
    "    # 逐个读取游戏\n",
    "    while True:\n",
    "        game = chess.pgn.read_game(f)\n",
    "        if game is None:\n",
    "            break\n",
    "        games.append(game)\n",
    "        if len(games) % 1e4 == 0:\n",
    "            print(len(games))\n",
    "        if len(games) > num:\n",
    "            break\n",
    "        # 在此处添加对游戏的处理代码\n",
    "        #print(game.headers[\"WhiteElo\"])\n"
   ]
  },
  {
   "cell_type": "code",
   "execution_count": 21,
   "metadata": {},
   "outputs": [
    {
     "data": {
      "text/plain": [
       "'1946'"
      ]
     },
     "execution_count": 21,
     "metadata": {},
     "output_type": "execute_result"
    }
   ],
   "source": [
    "games[0].headers[\"WhiteElo\"]"
   ]
  },
  {
   "cell_type": "code",
   "execution_count": 60,
   "metadata": {},
   "outputs": [],
   "source": [
    "def game_length(g, length_thresold=10):\n",
    "    length = 0\n",
    "    for move in g.mainline_moves():\n",
    "        length += 1\n",
    "    if length > length_thresold:\n",
    "        return True\n",
    "    return False\n",
    "\n",
    "games_filtered = list(filter(game_length, games))"
   ]
  },
  {
   "cell_type": "code",
   "execution_count": 63,
   "metadata": {},
   "outputs": [],
   "source": [
    "games = games_filtered"
   ]
  },
  {
   "cell_type": "code",
   "execution_count": 64,
   "metadata": {},
   "outputs": [],
   "source": [
    "elo_list = [int(g.headers[\"WhiteElo\"]) for g in games]\n",
    "elo_intervel = [1000, 1200, 1400, 1600, 1800, 2000, 2200, 2400]"
   ]
  },
  {
   "cell_type": "code",
   "execution_count": 65,
   "metadata": {},
   "outputs": [],
   "source": [
    "import numpy as np \n",
    "bins = np.array([0, 1000, 1200, 1400, 1600, 1800, 2000, 2200, 2400, 3000])\n",
    "# 定义输入数据\n",
    "data = np.array(elo_list)\n",
    "\n",
    "# 将数据划分为 bin\n",
    "result = np.digitize(data, bins)\n",
    "games=np.array(games)\n",
    "game_elo_dict ={b: games[result == idx] for idx, b in enumerate(bins)}"
   ]
  },
  {
   "cell_type": "code",
   "execution_count": 66,
   "metadata": {},
   "outputs": [
    {
     "data": {
      "text/plain": [
       "2148"
      ]
     },
     "execution_count": 66,
     "metadata": {},
     "output_type": "execute_result"
    }
   ],
   "source": [
    "len(game_elo_dict[3000])"
   ]
  },
  {
   "cell_type": "code",
   "execution_count": 67,
   "metadata": {},
   "outputs": [],
   "source": [
    "all_games = []\n",
    "for key in game_elo_dict.keys():\n",
    "    if len(game_elo_dict[key]) == 0:\n",
    "        continue\n",
    "    else:\n",
    "        all_games.extend(np.random.choice(game_elo_dict[key], min(len(game_elo_dict[key]), int(1e3)), replace=False).tolist())"
   ]
  },
  {
   "cell_type": "code",
   "execution_count": 70,
   "metadata": {},
   "outputs": [],
   "source": [
    "pgn_file_path = \"output.pgn\"\n",
    "pgn_file = open(pgn_file_path, \"w\", encoding=\"utf-8\")\n",
    "\n",
    "# 逐个写入游戏到 PGN 文件\n",
    "for game in all_games:\n",
    "    pgn_file.write(str(game) + \"\\n\\n\")\n",
    "\n",
    "# 关闭 PGN 文件\n",
    "pgn_file.close()"
   ]
  },
  {
   "cell_type": "code",
   "execution_count": 47,
   "metadata": {},
   "outputs": [
    {
     "data": {
      "text/plain": [
       "8"
      ]
     },
     "execution_count": 47,
     "metadata": {},
     "output_type": "execute_result"
    }
   ],
   "source": [
    "length = 0\n",
    "for move in all_games[0].mainline_moves():\n",
    "    length += 1\n",
    "length"
   ]
  },
  {
   "cell_type": "code",
   "execution_count": 54,
   "metadata": {},
   "outputs": [
    {
     "data": {
      "text/plain": [
       "'[Event \"Rated Blitz game\"]\\n[Site \"https://lichess.org/IpHag3gb\"]\\n[Date \"????.??.??\"]\\n[Round \"?\"]\\n[White \"TimotejP\"]\\n[Black \"Frankscacchi\"]\\n[Result \"0-1\"]\\n[BlackElo \"1016\"]\\n[BlackRatingDiff \"+5\"]\\n[ECO \"C23\"]\\n[Opening \"Bishop\\'s Opening\"]\\n[Termination \"Time forfeit\"]\\n[TimeControl \"300+0\"]\\n[UTCDate \"2017.08.01\"]\\n[UTCTime \"09:59:53\"]\\n[WhiteElo \"808\"]\\n[WhiteRatingDiff \"-8\"]\\n\\n1. e4 { [%clk 0:05:00] } 1... e5 { [%clk 0:05:00] } 2. Bc4 { [%clk 0:04:56] } 2... Nc6 { [%clk 0:04:57] } 3. Qf3 { [%clk 0:04:52] } 3... Nf6 { [%clk 0:04:55] } 4. Qh5 { [%clk 0:04:42] } 4... Nxh5 { [%clk 0:04:53] } 0-1'"
      ]
     },
     "execution_count": 54,
     "metadata": {},
     "output_type": "execute_result"
    }
   ],
   "source": [
    "str(all_games[0])"
   ]
  },
  {
   "cell_type": "code",
   "execution_count": 10,
   "metadata": {},
   "outputs": [],
   "source": [
    "import pickle as pkl\n",
    "pkl.dump(all_games, open('./games.pkl', 'wb'))"
   ]
  },
  {
   "cell_type": "code",
   "execution_count": 11,
   "metadata": {},
   "outputs": [
    {
     "data": {
      "text/plain": [
       "['h8g8',\n",
       " 'f8e7',\n",
       " 'f8d6',\n",
       " 'f8c5',\n",
       " 'f8b4',\n",
       " 'f8a3',\n",
       " 'e8e7',\n",
       " 'd8e7',\n",
       " 'a8b8',\n",
       " 'f6g8',\n",
       " 'f6h5',\n",
       " 'f6d5',\n",
       " 'f6g4',\n",
       " 'f6e4',\n",
       " 'c6b8',\n",
       " 'c6e7',\n",
       " 'c6a5',\n",
       " 'c6d4',\n",
       " 'c6b4',\n",
       " 'h7h6',\n",
       " 'g7g6',\n",
       " 'd7d6',\n",
       " 'b7b6',\n",
       " 'a7a6',\n",
       " 'h7h5',\n",
       " 'g7g5',\n",
       " 'd7d5',\n",
       " 'b7b5',\n",
       " 'a7a5']"
      ]
     },
     "execution_count": 11,
     "metadata": {},
     "output_type": "execute_result"
    }
   ],
   "source": [
    "import chess\n",
    "\n",
    "def get_legal_moves(fen):\n",
    "    board = chess.Board(fen)\n",
    "    legal_moves = []\n",
    "    \n",
    "    for move in board.legal_moves:\n",
    "        legal_moves.append(move.uci())\n",
    "        \n",
    "    return legal_moves\n",
    "\n",
    "fen = \"r1bqkb1r/pppp1ppp/2n2n2/4p3/2B1P3/5N2/PPPP1PPP/RNBQK2R b KQkq - 0 4\"\n",
    "legal_moves = get_legal_moves(fen)\n",
    "legal_moves"
   ]
  },
  {
   "cell_type": "code",
   "execution_count": 1,
   "metadata": {},
   "outputs": [],
   "source": [
    "import pickle as pkl\n",
    "all_games = pkl.load(open('./games.pkl', 'rb'))"
   ]
  },
  {
   "cell_type": "code",
   "execution_count": 25,
   "metadata": {},
   "outputs": [
    {
     "name": "stdout",
     "output_type": "stream",
     "text": [
      "Event: Rated Bullet tournament https://lichess.org/tournament/mcpxKInH\n",
      "Site: https://lichess.org/Un55XaNn\n",
      "Date: ????.??.??\n",
      "Round: ?\n",
      "White: adelhbb\n",
      "Black: Iamsocool\n",
      "Result: 1-0\n",
      "BlackElo: 1896\n",
      "BlackRatingDiff: -15\n",
      "ECO: A00\n",
      "Opening: Van Geet Opening: Dunst-Perrenet Gambit\n",
      "Termination: Normal\n",
      "TimeControl: 30+0\n",
      "UTCDate: 2017.03.03\n",
      "UTCTime: 18:36:27\n",
      "WhiteElo: 1782\n",
      "WhiteRatingDiff: +14\n",
      "r n b q k b n r\n",
      "p p p p p p p p\n",
      ". . . . . . . .\n",
      ". . . . . . . .\n",
      ". . . . P . . .\n",
      ". . . . . . . .\n",
      "P P P P . P P P\n",
      "R N B Q K B N R\n",
      "\n",
      "\n",
      "r n b q k b n r\n",
      "p p p . p p p p\n",
      ". . . . . . . .\n",
      ". . . p . . . .\n",
      ". . . . P . . .\n",
      ". . . . . . . .\n",
      "P P P P . P P P\n",
      "R N B Q K B N R\n",
      "\n",
      "\n",
      "r n b q k b n r\n",
      "p p p . p p p p\n",
      ". . . . . . . .\n",
      ". . . p . . . .\n",
      ". . . . P . . .\n",
      ". . . P . . . .\n",
      "P P P . . P P P\n",
      "R N B Q K B N R\n",
      "\n",
      "\n",
      "r n b q k b n r\n",
      "p p p . p p p p\n",
      ". . . . . . . .\n",
      ". . . . . . . .\n",
      ". . . . p . . .\n",
      ". . . P . . . .\n",
      "P P P . . P P P\n",
      "R N B Q K B N R\n",
      "\n",
      "\n",
      "r n b q k b n r\n",
      "p p p . p p p p\n",
      ". . . . . . . .\n",
      ". . . . . . . .\n",
      ". . . . p . . .\n",
      ". . N P . . . .\n",
      "P P P . . P P P\n",
      "R . B Q K B N R\n",
      "\n",
      "\n",
      "r n b q k b n r\n",
      "p p p . p p p p\n",
      ". . . . . . . .\n",
      ". . . . . . . .\n",
      ". . . . . . . .\n",
      ". . N p . . . .\n",
      "P P P . . P P P\n",
      "R . B Q K B N R\n",
      "\n",
      "\n",
      "r n b q k b n r\n",
      "p p p . p p p p\n",
      ". . . . . . . .\n",
      ". . . . . . . .\n",
      ". . . . . . . .\n",
      ". . N B . . . .\n",
      "P P P . . P P P\n",
      "R . B Q K . N R\n",
      "\n",
      "\n",
      "r n b q k b n r\n",
      "p p p . . p p p\n",
      ". . . . p . . .\n",
      ". . . . . . . .\n",
      ". . . . . . . .\n",
      ". . N B . . . .\n",
      "P P P . . P P P\n",
      "R . B Q K . N R\n",
      "\n",
      "\n",
      "r n b q k b n r\n",
      "p p p . . p p p\n",
      ". . . . p . . .\n",
      ". . . . . . . .\n",
      ". . . . . . . .\n",
      ". . N B . N . .\n",
      "P P P . . P P P\n",
      "R . B Q K . . R\n",
      "\n",
      "\n",
      "r n b q k . n r\n",
      "p p p . b p p p\n",
      ". . . . p . . .\n",
      ". . . . . . . .\n",
      ". . . . . . . .\n",
      ". . N B . N . .\n",
      "P P P . . P P P\n",
      "R . B Q K . . R\n",
      "\n",
      "\n",
      "r n b q k . n r\n",
      "p p p . b p p p\n",
      ". . . . p . . .\n",
      ". . . . . . . .\n",
      ". . . . . . . .\n",
      ". . N B . N . .\n",
      "P P P . . P P P\n",
      "R . B Q . R K .\n",
      "\n",
      "\n",
      "r n b q k . . r\n",
      "p p p . b p p p\n",
      ". . . . p n . .\n",
      ". . . . . . . .\n",
      ". . . . . . . .\n",
      ". . N B . N . .\n",
      "P P P . . P P P\n",
      "R . B Q . R K .\n",
      "\n",
      "\n",
      "r n b q k . . r\n",
      "p p p . b p p p\n",
      ". . . . p n . .\n",
      ". . . . . . B .\n",
      ". . . . . . . .\n",
      ". . N B . N . .\n",
      "P P P . . P P P\n",
      "R . . Q . R K .\n",
      "\n",
      "\n",
      "r n b q . r k .\n",
      "p p p . b p p p\n",
      ". . . . p n . .\n",
      ". . . . . . B .\n",
      ". . . . . . . .\n",
      ". . N B . N . .\n",
      "P P P . . P P P\n",
      "R . . Q . R K .\n",
      "\n",
      "\n",
      "r n b q . r k .\n",
      "p p p . b p p p\n",
      ". . . . p n . .\n",
      ". . . . . . B .\n",
      ". . . . . . . .\n",
      ". . N B . N . .\n",
      "P P P . Q P P P\n",
      "R . . . . R K .\n",
      "\n",
      "\n",
      "r n b q . r k .\n",
      "p p p . b p p .\n",
      ". . . . p n . p\n",
      ". . . . . . B .\n",
      ". . . . . . . .\n",
      ". . N B . N . .\n",
      "P P P . Q P P P\n",
      "R . . . . R K .\n",
      "\n",
      "\n",
      "r n b q . r k .\n",
      "p p p . b p p .\n",
      ". . . . p n . p\n",
      ". . . . . . . .\n",
      ". . . . . . . B\n",
      ". . N B . N . .\n",
      "P P P . Q P P P\n",
      "R . . . . R K .\n",
      "\n",
      "\n",
      "r n b q . r k .\n",
      "p p . . b p p .\n",
      ". . p . p n . p\n",
      ". . . . . . . .\n",
      ". . . . . . . B\n",
      ". . N B . N . .\n",
      "P P P . Q P P P\n",
      "R . . . . R K .\n",
      "\n",
      "\n",
      "r n b q . r k .\n",
      "p p . . b p p .\n",
      ". . p . p n . p\n",
      ". . . . . . . .\n",
      ". . . . . . . B\n",
      ". . N B . N . .\n",
      "P P P . Q P P P\n",
      ". . . R . R K .\n",
      "\n",
      "\n",
      "r n b . . r k .\n",
      "p p q . b p p .\n",
      ". . p . p n . p\n",
      ". . . . . . . .\n",
      ". . . . . . . B\n",
      ". . N B . N . .\n",
      "P P P . Q P P P\n",
      ". . . R . R K .\n",
      "\n",
      "\n",
      "r n b . . r k .\n",
      "p p q . b p p .\n",
      ". . p . p n . p\n",
      ". . . . . . . .\n",
      ". . . . . . . .\n",
      ". . N B . N B .\n",
      "P P P . Q P P P\n",
      ". . . R . R K .\n",
      "\n",
      "\n",
      "r n b . . r k .\n",
      "p p . . b p p .\n",
      ". q p . p n . p\n",
      ". . . . . . . .\n",
      ". . . . . . . .\n",
      ". . N B . N B .\n",
      "P P P . Q P P P\n",
      ". . . R . R K .\n",
      "\n",
      "\n",
      "r n b . . r k .\n",
      "p p . . b p p .\n",
      ". q p . p n . p\n",
      ". . . . . . . .\n",
      ". . . . N . . .\n",
      ". . . B . N B .\n",
      "P P P . Q P P P\n",
      ". . . R . R K .\n",
      "\n",
      "\n",
      "r n b . . r k .\n",
      "p p . . b p p .\n",
      ". q p . p . . p\n",
      ". . . . . . . .\n",
      ". . . . n . . .\n",
      ". . . B . N B .\n",
      "P P P . Q P P P\n",
      ". . . R . R K .\n",
      "\n",
      "\n",
      "r n b . . r k .\n",
      "p p . . b p p .\n",
      ". q p . p . . p\n",
      ". . . . . . . .\n",
      ". . . . Q . . .\n",
      ". . . B . N B .\n",
      "P P P . . P P P\n",
      ". . . R . R K .\n",
      "\n",
      "\n",
      "r . b . . r k .\n",
      "p p . n b p p .\n",
      ". q p . p . . p\n",
      ". . . . . . . .\n",
      ". . . . Q . . .\n",
      ". . . B . N B .\n",
      "P P P . . P P P\n",
      ". . . R . R K .\n",
      "\n",
      "\n",
      "r . b . . r k .\n",
      "p p . n b p p Q\n",
      ". q p . p . . p\n",
      ". . . . . . . .\n",
      ". . . . . . . .\n",
      ". . . B . N B .\n",
      "P P P . . P P P\n",
      ". . . R . R K .\n",
      "\n",
      "\n"
     ]
    }
   ],
   "source": [
    "for key, value in game.headers.items():\n",
    "    print(f\"{key}: {value}\")\n",
    "\n",
    "# 打印主线着法\n",
    "board = game.board()\n",
    "for move in game.mainline_moves():\n",
    "    board.push(move)\n",
    "    print(board)\n",
    "    print('\\n')"
   ]
  },
  {
   "cell_type": "code",
   "execution_count": 87,
   "metadata": {},
   "outputs": [
    {
     "data": {
      "text/plain": [
       "2"
      ]
     },
     "execution_count": 87,
     "metadata": {},
     "output_type": "execute_result"
    }
   ],
   "source": [
    "np.random.choice(list(range(15)), size=5)"
   ]
  },
  {
   "cell_type": "code",
   "execution_count": 7,
   "metadata": {},
   "outputs": [],
   "source": [
    "game = all_games[0]"
   ]
  },
  {
   "cell_type": "code",
   "execution_count": 12,
   "metadata": {},
   "outputs": [],
   "source": [
    "board = game.board()\n",
    "moves = []\n",
    "for move in game.mainline_moves():\n",
    "    moves.append(board.san(move))\n",
    "    board.push(move)"
   ]
  },
  {
   "cell_type": "code",
   "execution_count": 15,
   "metadata": {},
   "outputs": [
    {
     "data": {
      "text/plain": [
       "'1. e3 e5 2. d3 Nf6 3. b3 d5 '"
      ]
     },
     "execution_count": 15,
     "metadata": {},
     "output_type": "execute_result"
    }
   ],
   "source": [
    "get_pgn(moves[:6])"
   ]
  },
  {
   "cell_type": "code",
   "execution_count": 10,
   "metadata": {},
   "outputs": [],
   "source": [
    "def get_pgn(san_list):\n",
    "    pgn = \"\"\n",
    "    for idx, san in enumerate(san_list):\n",
    "        if idx % 2 == 0:\n",
    "            pgn += f\"{idx//2+1}. {san}\"\n",
    "        else:\n",
    "            pgn += f\" {san} \"\n",
    "    return pgn"
   ]
  },
  {
   "cell_type": "code",
   "execution_count": 42,
   "metadata": {},
   "outputs": [],
   "source": [
    "# PGN2FEN data\n",
    "import numpy as np\n",
    "pgn2fen_dict_all = {}\n",
    "def pgn2fen(game):\n",
    "    pgn2fen_dict = {}\n",
    "    board = game.board()\n",
    "    length = 0 \n",
    "    for move in game.mainline_moves():\n",
    "        length += 1\n",
    "    if length <=3:\n",
    "        size = 1\n",
    "    else:\n",
    "        size = 3\n",
    "    step = np.random.choice(list(range(length)), size=size, replace=False)\n",
    "    length = 0 \n",
    "    moves = []\n",
    "    for move in game.mainline_moves():\n",
    "        moves.append(board.san(move))\n",
    "        board.push(move)\n",
    "        #print(len(moves)-1)\n",
    "        if len(moves)-1 in step:\n",
    "            pgn2fen_dict[get_pgn(moves)] = board.fen()\n",
    "        length += 1\n",
    "    return pgn2fen_dict\n",
    "\n",
    "for g in all_games:\n",
    "    try:\n",
    "        pgn2fen_dict = pgn2fen(g)\n",
    "        pgn2fen_dict_all.update(pgn2fen_dict)\n",
    "    except:\n",
    "        pass"
   ]
  },
  {
   "cell_type": "code",
   "execution_count": 43,
   "metadata": {},
   "outputs": [
    {
     "data": {
      "text/plain": [
       "293348"
      ]
     },
     "execution_count": 43,
     "metadata": {},
     "output_type": "execute_result"
    }
   ],
   "source": [
    "len(pgn2fen_dict_all.keys())"
   ]
  },
  {
   "cell_type": "code",
   "execution_count": 41,
   "metadata": {},
   "outputs": [],
   "source": [
    "# PGN2FEN data\n",
    "import numpy as np\n",
    "pgn_uci2fen_dict_all = {}\n",
    "def pgn_uci2fen(game):\n",
    "    pgn2fen_dict = {}\n",
    "    board = game.board()\n",
    "    length = 0 \n",
    "    for move in game.mainline_moves():\n",
    "        length += 1\n",
    "    if length <=3:\n",
    "        size = 1\n",
    "    else:\n",
    "        size = 3\n",
    "    step = np.random.choice(list(range(length)), size=size, replace=False)\n",
    "    length = 0 \n",
    "    moves = []\n",
    "    for move in game.mainline_moves():\n",
    "        moves.append(move)\n",
    "        board.push(move)\n",
    "        #print(len(moves)-1)\n",
    "        moves_string = [str(m) for m in moves]\n",
    "        if len(moves) in step:\n",
    "            pgn2fen_dict[\" \".join(moves_string)] = board.fen()\n",
    "        length += 1\n",
    "    return pgn2fen_dict\n",
    "\n",
    "for g in all_games:\n",
    "    #try:\n",
    "    pgn_uci2fen_dict = pgn_uci2fen(g)\n",
    "    #    print(pgn_uci2fen_dict)\n",
    "    break\n",
    "    #    pgn_uci2fen_dict_all.update(pgn_uci2fen_dict)\n",
    "    #except:\n",
    "    #    pass"
   ]
  },
  {
   "cell_type": "code",
   "execution_count": 42,
   "metadata": {},
   "outputs": [
    {
     "data": {
      "text/plain": [
       "{'e2e3 e7e5 d2d3 g8f6 b2b3 d7d5 c1a3 c7c5 g2g3 e5e4 f1h3 c8h3 g1h3 h7h6 h3f4 b8d7 d3d4': 'r2qkb1r/pp1n1pp1/5n1p/2pp4/3PpN2/BP2P1P1/P1P2P1P/RN1QK2R b KQkq - 0 9',\n",
       " 'e2e3 e7e5 d2d3 g8f6 b2b3 d7d5 c1a3 c7c5 g2g3 e5e4 f1h3 c8h3 g1h3 h7h6 h3f4 b8d7 d3d4 b7b6 d4c5 b6c5 c2c4 d8a5 e1e2 d5d4 e3d4 c5d4 d1d4 f8a3 b1a3 a5a3 f2f3 e8g8 f3e4 a3e7 e4e5 d7e5 f4d5 e7e6 d5f6 g7f6 h1f1 e5c6 e2d3 c6d4 d3d4 a8d8 d4c3 e6e3 c3b2 d8d2 b2a3': '5rk1/p4p2/5p1p/8/2P5/KP2q1P1/P2r3P/R4R2 b - - 6 26',\n",
       " 'e2e3 e7e5 d2d3 g8f6 b2b3 d7d5 c1a3 c7c5 g2g3 e5e4 f1h3 c8h3 g1h3 h7h6 h3f4 b8d7 d3d4 b7b6 d4c5 b6c5 c2c4 d8a5 e1e2 d5d4 e3d4 c5d4 d1d4 f8a3 b1a3 a5a3 f2f3 e8g8 f3e4 a3e7 e4e5 d7e5 f4d5 e7e6 d5f6 g7f6 h1f1 e5c6 e2d3 c6d4 d3d4 a8d8 d4c3 e6e3 c3b2 d8d2 b2a3 f8b8 f1e1': '1r4k1/p4p2/5p1p/8/2P5/KP2q1P1/P2r3P/R3R3 b - - 8 27'}"
      ]
     },
     "execution_count": 42,
     "metadata": {},
     "output_type": "execute_result"
    }
   ],
   "source": [
    "pgn_uci2fen_dict"
   ]
  },
  {
   "cell_type": "code",
   "execution_count": 3,
   "metadata": {},
   "outputs": [],
   "source": [
    "# PGN2FEN data\n",
    "import numpy as np\n",
    "uci2san_dict_all = {}\n",
    "def uci2san(game):\n",
    "    uci2san_dict = {}\n",
    "    board = game.board()\n",
    "    length = 0 \n",
    "    for move in game.mainline_moves():\n",
    "        length += 1\n",
    "    if length <=3:\n",
    "        size = 1\n",
    "    else:\n",
    "        size = 3\n",
    "    step = np.random.choice(list(range(length)), size=size, replace=False)\n",
    "    length = 0 \n",
    "    moves = []\n",
    "    for move in game.mainline_moves():\n",
    "        moves.append(move)\n",
    "        prev_fen = board.fen()\n",
    "        san = board.san(move)\n",
    "        board.push(move)\n",
    "        #print(len(moves)-1)\n",
    "        if len(moves)-1 in step:\n",
    "            uci2san_dict[prev_fen + '__' + str(move)] = san\n",
    "        length += 1\n",
    "    return uci2san_dict\n",
    "\n",
    "for g in all_games:\n",
    "    #try:\n",
    "    uci2san_dict = uci2san(g)\n",
    "    break\n"
   ]
  },
  {
   "cell_type": "code",
   "execution_count": 21,
   "metadata": {},
   "outputs": [],
   "source": [
    "import pickle as pkl\n",
    "fen_push_san = pkl.load(open('./pgn2fen.pkl', 'rb'))"
   ]
  },
  {
   "cell_type": "code",
   "execution_count": 35,
   "metadata": {},
   "outputs": [],
   "source": [
    "def san2uci(game, step=0):\n",
    "    san2uci_dict = {}\n",
    "    board = game.board()\n",
    "    length = 0 \n",
    "    for move in game.mainline_moves():\n",
    "        length += 1\n",
    "    if length <=3:\n",
    "        size = 1\n",
    "    else:\n",
    "        size = 3\n",
    "    step = np.random.choice(list(range(length)), size=size, replace=False)\n",
    "    length = 0 \n",
    "    moves = []\n",
    "    for move in game.mainline_moves():\n",
    "        moves.append(move)\n",
    "        prev_fen = board.fen()\n",
    "        san = board.san(move)\n",
    "        board.push(move)\n",
    "        #print(len(moves)-1)\n",
    "        if len(moves)-1 in step:\n",
    "            san2uci_dict[prev_fen + '__' + str(san)] = str(move)\n",
    "        length += 1\n",
    "    return san2uci_dict\n",
    "\n",
    "for g in all_games:\n",
    "    #try:\n",
    "    san2uci_dict = san2uci(g)\n",
    "    break"
   ]
  },
  {
   "cell_type": "code",
   "execution_count": 16,
   "metadata": {},
   "outputs": [],
   "source": [
    "def fen2bit(game, step=0):\n",
    "    fen2bit_dict = {}\n",
    "    board = game.board()\n",
    "    length = 0 \n",
    "    for move in game.mainline_moves():\n",
    "        length += 1\n",
    "    if length <=3:\n",
    "        size = 1\n",
    "    else:\n",
    "        size = 2\n",
    "    step = np.random.choice(list(range(length)), size=size, replace=False)\n",
    "    length = 0 \n",
    "    moves = []\n",
    "    for move in game.mainline_moves():\n",
    "        moves.append(move)\n",
    "        board.push(move)\n",
    "        #print(len(moves)-1)\n",
    "        if len(moves)-1 in step:\n",
    "            fen2bit_dict[board.fen()] = str(board)\n",
    "        length += 1\n",
    "    return fen2bit_dict\n",
    "\n",
    "for g in all_games:\n",
    "    #try:\n",
    "    fen2bit_dict = fen2bit(g)\n",
    "    break"
   ]
  },
  {
   "cell_type": "code",
   "execution_count": 18,
   "metadata": {},
   "outputs": [],
   "source": [
    "def fen_push_san(game, step=0):\n",
    "    fen_push_san_dict = {}\n",
    "    board = game.board()\n",
    "    length = 0 \n",
    "    for move in game.mainline_moves():\n",
    "        length += 1\n",
    "    if length <=3:\n",
    "        size = 1\n",
    "    else:\n",
    "        size = 1\n",
    "    step = np.random.choice(list(range(length)), size=size, replace=False)\n",
    "    length = 0 \n",
    "    moves = []\n",
    "    for move in game.mainline_moves():\n",
    "        moves.append(move)\n",
    "        prev_fen = board.fen()\n",
    "        san = board.san(move)\n",
    "        board.push(move)\n",
    "        #print(len(moves)-1)\n",
    "        if len(moves)-1 in step:\n",
    "            fen_push_san_dict[prev_fen + '__' +  str(san)] = board.fen()\n",
    "        length += 1\n",
    "    return fen_push_san_dict\n",
    "\n",
    "for g in all_games:\n",
    "    #try:\n",
    "    fen_push_san_dict = fen_push_san(g)\n",
    "    break"
   ]
  },
  {
   "cell_type": "code",
   "execution_count": 20,
   "metadata": {},
   "outputs": [],
   "source": [
    "def fen_push_uci(game, step=0):\n",
    "    fen_push_uci_dict = {}\n",
    "    board = game.board()\n",
    "    length = 0 \n",
    "    for move in game.mainline_moves():\n",
    "        length += 1\n",
    "    if length <=3:\n",
    "        size = 1\n",
    "    else:\n",
    "        size = 1\n",
    "    step = np.random.choice(list(range(length)), size=size, replace=False)\n",
    "    length = 0 \n",
    "    moves = []\n",
    "    for move in game.mainline_moves():\n",
    "        moves.append(move)\n",
    "        prev_fen = board.fen()\n",
    "        board.push(move)\n",
    "        #print(len(moves)-1)\n",
    "        if len(moves)-1 in step:\n",
    "            fen_push_uci_dict[prev_fen + '__' +  str(move)] = board.fen()\n",
    "        length += 1\n",
    "    return fen_push_uci_dict\n",
    "\n",
    "for g in all_games:\n",
    "    #try:\n",
    "    fen_push_uci_dict = fen_push_uci(g)\n",
    "    break"
   ]
  },
  {
   "cell_type": "code",
   "execution_count": 25,
   "metadata": {},
   "outputs": [],
   "source": [
    "def legal_move_all(game, step=0):\n",
    "    legal_move_all_dict = {}\n",
    "    board = game.board()\n",
    "    length = 0 \n",
    "    for move in game.mainline_moves():\n",
    "        length += 1\n",
    "    if length <=3:\n",
    "        size = 2\n",
    "    else:\n",
    "        size = 1\n",
    "    step = np.random.choice(list(range(length)), size=size, replace=False)\n",
    "    length = 0 \n",
    "    moves = []\n",
    "    for move in game.mainline_moves():\n",
    "        moves.append(move)\n",
    "        board.push(move)\n",
    "        if len(moves)-1 in step:\n",
    "            legal_moves = list(board.legal_moves)\n",
    "            legal_moves = [str(lm) for lm in legal_moves]\n",
    "            legal_move_all_dict[board.fen()] = \" \".join(legal_moves)\n",
    "        length += 1\n",
    "    return legal_move_all_dict\n",
    "\n",
    "for g in all_games:\n",
    "    #try:\n",
    "    legal_move_all_dict = legal_move_all(g)\n",
    "    break"
   ]
  },
  {
   "cell_type": "code",
   "execution_count": 11,
   "metadata": {},
   "outputs": [],
   "source": [
    "# pgn2fen\n",
    "pgn2fen_template = [\n",
    "    \"Generate the FEN representation given the PGN of chess game: {}. The FEN is {}.\",\n",
    "    \"Can you produce the FEN code that corresponds to the provided PGN for the chess game: {}? The FEN notation obtained is {}.\",\n",
    "    \"I would appreciate it if you could generate the Forsyth–Edwards Notation (FEN) that corresponds to the given PGN for the chess game: {}. The FEN code generated is {}.\",\n",
    "    \"Please generate the FEN notation for the chess game using the provided PGN: {}. The obtained FEN representation is {}.\",\n",
    "    \"Would you mind generating the FEN code that corresponds to the given PGN for the chess game? The PGN is {}. The FEN notation generated is {}.\",\n",
    "    \"I request you to generate the FEN notation for the given PGN of the chess game: {}. The FEN code obtained is {}.\",\n",
    "    \"Kindly generate the FEN representation that corresponds to the provided PGN of the chess game {}. The obtained FEN notation is {}.\",\n",
    "    \"Could you generate the FEN code for the chess game using the provided PGN: {}? The FEN notation generated is {}.\",\n",
    "    \"It would be great if you could generate the Forsyth–Edwards Notation (FEN) for the chess game using the given PGN {}. The FEN representation obtained is {}.\",\n",
    "    \"May I request you to produce the FEN notation for the provided PGN of the chess game: {}? The FEN code obtained is {}.\",\n",
    "    \"Please generate the FEN code for the chess game based on the provided PGN: {}. The FEN notation obtained is {}.\"\n",
    "]\n",
    "uci2fen_template = [\n",
    "    \"Generate the FEN representation given the SAN based move list of chess game: {}. The FEN is {}.\",\n",
    "    \"Could you produce the Forsyth–Edwards Notation (FEN) that corresponds to the provided SAN based move list of the chess game: {}? The resulting FEN representation is {}.\",\n",
    "    \"I request you to generate the FEN code that corresponds to the given SAN based move list of the chess game: {}. The FEN notation obtained is {}.\",\n",
    "    \"Can you please generate the FEN representation of the chess game using the provided SAN based move list: {}? The resulting FEN is {}.\",\n",
    "    \"I would appreciate it if you could generate the FEN notation for the chess game using the provided SAN based move list: {}. The obtained FEN code is {}.\",\n",
    "    \"Kindly produce the FEN representation that corresponds to the given SAN based move list of the chess game: {}. The resulting FEN is {}.\",\n",
    "    \"Please generate the Forsyth–Edwards Notation (FEN) for the chess game using the provided SAN based move list: {}. The FEN code obtained is {}.\",\n",
    "    \"I request you to produce the FEN notation for the chess game based on the given SAN based move list: {}. The FEN representation obtained is {}.\",\n",
    "    \"Could you kindly generate the FEN code that corresponds to the provided SAN based move list of the chess game: {}? The obtained FEN notation is {}.\",\n",
    "    \"May I request you to generate the Forsyth–Edwards Notation (FEN) that corresponds to the provided SAN based move list of the chess game: {}? The resulting FEN is {}.\",\n",
    "    \"It would be great if you could produce the FEN representation of the chess game based on the provided SAN based move list: {}. The FEN code obtained is {}.\",\n",
    "]\n",
    "\n",
    "san2uci_template = [\n",
    "    \"Given the chess board FEN {} and SAN-based move {}. Can you generate the UCI move? The result is {}.\",\n",
    "    \"Provided the FEN notation {} and the SAN-based move {}, what is the corresponding UCI move? The outcome is {}.\",\n",
    "    \"With the FEN representation {} and a move in SAN format {}, can you determine the equivalent UCI move? The answer is {}.\",\n",
    "    \"Taking the FEN configuration {} and the move expressed in SAN notation {}, could you generate the related UCI move? The resultant move is {}.\",\n",
    "    \"Given the FEN setup {} and a move denoted by SAN {}, what would be the respective UCI move? The solution is {}.\",\n",
    "    \"Considering the FEN layout {} and the SAN-encoded move {}, can you identify the matching UCI move? The resulting move is {}.\",\n",
    "    \"Using the FEN position {} and the SAN move notation {}, could you derive the appropriate UCI move? The conversion yields {}.\",\n",
    "    \"If provided with the FEN arrangement {} and a move represented in SAN {}, can you compute the corresponding UCI move? The obtained move is {}.\",\n",
    "    \"By analyzing the FEN structure {} and the SAN-formatted move {}, can you determine the UCI move equivalent? The conclusion is {}.\",\n",
    "    \"With the FEN board state {} and a move in SAN {}, what is the corresponding UCI move? The derived move is {}.\",\n",
    "    \"Given the chessboard FEN {} and a move described in SAN {}, can you produce the related UCI move? The resulting conversion is {}.\"\n",
    "]\n",
    "    \n",
    "uci2san_template =[\n",
    "    \"Given the chess board FEN {} and UCI-based move {}. Can you generate the SAN move? The result is {}.\",\n",
    "    \"Provided the FEN notation {} and the UCI-based move {}, what is the corresponding SAN move? The outcome is {}.\",\n",
    "    \"With the FEN representation {} and a move in SAN format {}, can you determine the equivalent SAN move? The answer is {}.\",\n",
    "    \"Taking the FEN configuration {} and the move expressed in UCI notation {}, could you generate the related SAN move? The resultant move is {}.\",\n",
    "    \"Given the FEN setup {} and a move denoted by UCI {}, what would be the respective SAN move? The solution is {}.\",\n",
    "    \"Considering the FEN layout {} and the UCI-encoded move {}, can you identify the matching SAN move? The resulting move is {}.\",\n",
    "    \"Using the FEN position {} and the UCI move notation {}, could you derive the appropriate SAN move? The conversion yields {}.\",\n",
    "    \"If provided with the FEN arrangement {} and a move represented in UCI {}, can you compute the corresponding SAN move? The obtained move is {}.\",\n",
    "    \"By analyzing the FEN structure {} and the UCI-formatted move {}, can you determine the SAN move equivalent? The conclusion is {}.\",\n",
    "    \"With the FEN board state {} and a move in UCI {}, what is the corresponding SAN move? The derived move is {}.\",\n",
    "    \"Given the chessboard FEN {} and a move described in UCI {}, can you produce the related SAN move? The resulting conversion is {}.\"\n",
    "]\n",
    "    \n",
    "draw_board_template = [\n",
    "    \"Given the chess board FEN {}. Can you draw it using only letters? Here is the draw {}.\",\n",
    "    \"With the provided FEN code {}, kindly create a visual representation using solely letters. Find the resulting image here: {}.\",\n",
    "    \"Utilizing the given FEN string {}, please generate a chessboard depiction with just alphabetic symbols. See the artwork here: {}.\",\n",
    "    \"Taking into account the FEN input {}, could you design a chessboard picture using only letter characters? Observe the outcome here: {}.\",\n",
    "    \"In light of the supplied FEN sequence {}, produce a chessboard sketch exclusively using letters. Witness the final product here: {}.\",\n",
    "    \"Employing the FEN data {}, please construct a chessboard portrait using merely alphabetical elements. Behold the creation here: {}.\",\n",
    "    \"Given the FEN information {}, kindly fashion a chessboard layout with only letter-based components. View the result here: {}.\",\n",
    "    \"Using the FEN value {}, please compose a chessboard scene with just lettered characters. Examine the completed work here: {}.\",\n",
    "    \"With reference to the FEN code {}, would you assemble a chessboard illustration solely employing letters? Inspect the rendition here: {}.\",\n",
    "    \"Based on the indicated FEN notation {}, create a chessboard visualization using nothing but letters. Check out the display here: {}.\",\n",
    "    \"Considering the FEN input provided {}, craft a chessboard image using only letter characters. Gaze upon the masterpiece here: {}.\"\n",
    "]\n",
    "\n",
    "fen_push_uci_template = [\n",
    "    \"Given the chess board FEN {} and a UCI format move. What is the next board's FEN? The Fen is {}.\",\n",
    "    \"With the given FEN {} and a move in UCI format {}, what would be the resulting FEN of the next board? The new FEN is {}.\",\n",
    "    \"Considering the initial chess board FEN {}, after applying the UCI format move {}, what is the subsequent board's FEN? The updated FEN is {}.\",\n",
    "    \"Starting from the chess board FEN {}, and executing the UCI format move {}, what is the FEN representation of the following board? The derived FEN is {}.\",\n",
    "    \"Provided the chess board's FEN {}, after making the UCI format move {}, what does the next board's FEN look like? The modified FEN is {}.\",\n",
    "    \"Taking into account the FEN {} of the chess board and a move expressed in UCI format {}, what is the FEN for the ensuing board? The consequent FEN is {}.\",\n",
    "    \"With the chess board represented by FEN {} and a move specified in UCI format {}, what is the FEN of the subsequent board? The resulting FEN is {}.\",\n",
    "    \"Given the FEN {} for a chess board and a move described in UCI format {}, what is the FEN of the next board configuration? The adjusted FEN is {}.\",\n",
    "    \"Upon applying the UCI format move {} to the chess board with FEN {}, what is the FEN of the next board position? The transformed FEN is {}.\",\n",
    "    \"When the chess board has a FEN of {} and a UCI format move {} is played, what is the FEN of the resulting board? The evolved FEN is {}.\",\n",
    "    \"From the initial chess board FEN {}, after performing the UCI format move {}, what is the FEN of the subsequent board layout? The subsequent FEN is {}.\"\n",
    "]\n",
    "fen_push_san_template = [\n",
    "    \"Given the chess board FEN {} and a SAN format move. What is the next board's FEN? The FEN is {}.\",\n",
    "    \"With the given FEN {} and a move in SAN format {}, what would be the resulting FEN of the next board? The new FEN is {}.\",\n",
    "    \"Considering the initial chess board FEN {}, after applying the SAN format move {}, what is the subsequent board's FEN? The updated FEN is {}.\",\n",
    "    \"Starting from the chess board FEN {}, and executing the SAN format move {}, what is the FEN representation of the following board? The derived FEN is {}.\",\n",
    "    \"Provided the chess board's FEN {}, after making the SAN format move {}, what does the next board's FEN look like? The modified FEN is {}.\",\n",
    "    \"Taking into account the FEN {} of the chess board and a move expressed in SAN format {}, what is the FEN for the ensuing board? The consequent FEN is {}.\",\n",
    "    \"With the chess board represented by FEN {} and a move specified in SAN format {}, what is the FEN of the subsequent board? The resulting FEN is {}.\",\n",
    "    \"Given the FEN {} for a chess board and a move described in SAN format {}, what is the FEN of the next board configuration? The adjusted FEN is {}.\",\n",
    "    \"Upon applying the SAN format move {} to the chess board with FEN {}, what is the FEN of the next board position? The transformed FEN is {}.\",\n",
    "    \"When the chess board has a FEN of {} and a SAN format move {} is played, what is the FEN of the resulting board? The evolved FEN is {}.\",\n",
    "    \"From the initial chess board FEN {}, after performing the SAN format move {}, what is the FEN of the subsequent board layout? The subsequent FEN is {}.\"\n",
    "]\n",
    "all_legal_template = [\n",
    "    \"Generate all legal moves for the given FEN of chess game: {}. Note that it considers the king in check situation. The legal moves are: {}.\",\n",
    "    \"Please generate all the legal moves for the provided FEN of the chess game: {} taking into consideration that the king might be in check. The resulting moves are {}.\",\n",
    "    \"Could you produce a list of all legal moves for the given FEN of the chess game: {} while also considering the possibility of the king being in check? The resulting moves are {}.\",\n",
    "    \"I request you to generate all legal moves for the given FEN of the chess game: {}, taking into account the king's possible checkmate situation. The resulting moves are {}.\",\n",
    "    \"Can you please provide me with a list of all legal moves for the given FEN of the chess game: {} while also considering the king's check condition? The resulting moves are {}.\",\n",
    "    \"Kindly generate all legal moves for the provided FEN of the chess game: {} taking into account the possibility of the king being in check. The resulting moves are {}.\",\n",
    "    \"Please list down all the legal moves that can be made for the provided FEN of the chess game: {} while taking the king's check situation into account. The resulting moves are {}.\",\n",
    "    \"May I request you to generate all legal moves for the given FEN of the chess game: {} while also considering the possibility of the king being in check? The resulting moves are {}.\",\n",
    "    \"It would be great if you could generate a list of all legal moves for the given FEN of the chess game: {} taking into consideration that the king might be in check. The resulting moves are {}.\",\n",
    "    \"Can you generate all legal moves for the provided FEN of the chess game: {} taking into consideration that the king might be in check? The resulting moves are {}.\",\n",
    "    \"I would appreciate it if you could generate all legal moves for the given FEN of the chess game: {} while taking into account the king's check condition. The resulting moves are {}.\"\n",
    "]"
   ]
  },
  {
   "cell_type": "code",
   "execution_count": 15,
   "metadata": {},
   "outputs": [],
   "source": [
    "puzzle_content = []\n",
    "import pickle as pkl\n",
    "import pandas as pd\n",
    "all_data = pkl.load(open('./pgn2fen.pkl', 'rb'))\n",
    "description = \"Generate FEN given PGN\"\n",
    "import random\n",
    "for key, value in all_data.items():\n",
    "    content = random.sample(pgn2fen_template, k=1)[0].format(key, value)\n",
    "    puzzle_content.append(content)\n",
    "\n",
    "pgn2fen_df = pd.DataFrame(list(zip([description] * len(puzzle_content), puzzle_content)), columns=['description', 'content'])"
   ]
  },
  {
   "cell_type": "code",
   "execution_count": 16,
   "metadata": {},
   "outputs": [],
   "source": [
    "puzzle_content = []\n",
    "import pickle as pkl\n",
    "import pandas as pd\n",
    "all_data = pkl.load(open('./pgn_uci2fen.pkl', 'rb'))\n",
    "description = \"Generate FEN given UCI-format move list\"\n",
    "import random\n",
    "for key, value in all_data.items():\n",
    "    content = random.sample(uci2fen_template, k=1)[0].format(key, value)\n",
    "    puzzle_content.append(content)\n",
    "\n",
    "pgn_uci2fen_df = pd.DataFrame(list(zip([description] * len(puzzle_content), puzzle_content)), columns=['description', 'content'])"
   ]
  },
  {
   "cell_type": "code",
   "execution_count": 17,
   "metadata": {},
   "outputs": [],
   "source": [
    "puzzle_content = []\n",
    "import pickle as pkl\n",
    "import pandas as pd\n",
    "all_data = pkl.load(open('./san2uci.pkl', 'rb'))\n",
    "description = \"Generate UCI move given SAN-format move and FEN\"\n",
    "import random\n",
    "for key, value in all_data.items():\n",
    "    data_split = key.split('__')\n",
    "    assert len(data_split) == 2\n",
    "    fen, san = data_split[0], data_split[1]\n",
    "    content = random.sample(san2uci_template, k=1)[0].format(fen, san, value)\n",
    "    puzzle_content.append(content)\n",
    "\n",
    "san2uci_df = pd.DataFrame(list(zip([description] * len(puzzle_content), puzzle_content)), columns=['description', 'content'])"
   ]
  },
  {
   "cell_type": "code",
   "execution_count": 18,
   "metadata": {},
   "outputs": [],
   "source": [
    "puzzle_content = []\n",
    "import pickle as pkl\n",
    "import pandas as pd\n",
    "all_data = pkl.load(open('./uci2san.pkl', 'rb'))\n",
    "description = \"Generate SAN move given UCI-format move and FEN\"\n",
    "import random\n",
    "for key, value in all_data.items():\n",
    "    data_split = key.split('__')\n",
    "    assert len(data_split) == 2\n",
    "    fen, uci = data_split[0], data_split[1]\n",
    "    content = random.sample(uci2san_template, k=1)[0].format(fen, uci, value)\n",
    "    puzzle_content.append(content)\n",
    "\n",
    "uci2san_df = pd.DataFrame(list(zip([description] * len(puzzle_content), puzzle_content)), columns=['description', 'content'])"
   ]
  },
  {
   "cell_type": "code",
   "execution_count": 19,
   "metadata": {},
   "outputs": [],
   "source": [
    "puzzle_content = []\n",
    "import pickle as pkl\n",
    "import pandas as pd\n",
    "all_data = pkl.load(open('./fen2bit.pkl', 'rb'))\n",
    "description = \"Draw chess board given FEN\"\n",
    "import random\n",
    "for key, value in all_data.items():\n",
    "    content = random.sample(draw_board_template, k=1)[0].format(key, value)\n",
    "    puzzle_content.append(content)\n",
    "\n",
    "draw_board_df = pd.DataFrame(list(zip([description] * len(puzzle_content), puzzle_content)), columns=['description', 'content'])"
   ]
  },
  {
   "cell_type": "code",
   "execution_count": 21,
   "metadata": {},
   "outputs": [],
   "source": [
    "puzzle_content = []\n",
    "import pickle as pkl\n",
    "import pandas as pd\n",
    "all_data = pkl.load(open('./fen_push_san.pkl', 'rb'))\n",
    "description = \"Generate next FEN given FEN and SAN format move\"\n",
    "import random\n",
    "for key, value in all_data.items():\n",
    "    data_split = key.split('__')\n",
    "    assert len(data_split) == 2\n",
    "    fen, san = data_split[0], data_split[1]\n",
    "    content = random.sample(fen_push_san_template, k=1)[0].format(fen, san, value)\n",
    "    puzzle_content.append(content)\n",
    "\n",
    "fen_push_san_df = pd.DataFrame(list(zip([description] * len(puzzle_content), puzzle_content)), columns=['description', 'content'])"
   ]
  },
  {
   "cell_type": "code",
   "execution_count": 22,
   "metadata": {},
   "outputs": [],
   "source": [
    "puzzle_content = []\n",
    "import pickle as pkl\n",
    "import pandas as pd\n",
    "all_data = pkl.load(open('./fen_push_uci.pkl', 'rb'))\n",
    "description = \"Generate next FEN given FEN and UCI format move\"\n",
    "import random\n",
    "for key, value in all_data.items():\n",
    "    data_split = key.split('__')\n",
    "    assert len(data_split) == 2\n",
    "    fen, uci = data_split[0], data_split[1]\n",
    "    content = random.sample(fen_push_uci_template, k=1)[0].format(fen, uci, value)\n",
    "    puzzle_content.append(content)\n",
    "\n",
    "fen_push_uci_df = pd.DataFrame(list(zip([description] * len(puzzle_content), puzzle_content)), columns=['description', 'content'])"
   ]
  },
  {
   "cell_type": "code",
   "execution_count": 31,
   "metadata": {},
   "outputs": [],
   "source": [
    "puzzle_content = []\n",
    "import pickle as pkl\n",
    "import pandas as pd\n",
    "all_data = pkl.load(open('./legal_move_all.pkl', 'rb'))\n",
    "description = \"Generate all legal moves given a board FEN\"\n",
    "import random\n",
    "for key, value in all_data.items():\n",
    "    content = random.sample(all_legal_template, k=1)[0].format(key, value)\n",
    "    puzzle_content.append(content)\n",
    "\n",
    "all_legal_df = pd.DataFrame(list(zip([description] * len(puzzle_content), puzzle_content)), columns=['description', 'content'])"
   ]
  },
  {
   "cell_type": "code",
   "execution_count": 32,
   "metadata": {},
   "outputs": [],
   "source": [
    "all_data_df = pd.concat([pgn2fen_df, all_legal_df, fen_push_uci_df, fen_push_san_df, draw_board_df, uci2san_df, san2uci_df, pgn_uci2fen_df])"
   ]
  },
  {
   "cell_type": "code",
   "execution_count": 34,
   "metadata": {},
   "outputs": [],
   "source": [
    "all_data_df = all_data_df.sample(frac=1).reset_index(drop=True)"
   ]
  },
  {
   "cell_type": "code",
   "execution_count": 37,
   "metadata": {},
   "outputs": [],
   "source": [
    "all_data_df.to_json('./function_puzzle.jsonl', orient='records', lines=True)"
   ]
  },
  {
   "cell_type": "code",
   "execution_count": 16,
   "metadata": {},
   "outputs": [],
   "source": [
    "template = [\n",
    "    \"Question: In the following chess PGN, find a checkmate in one move.\\n {}. The answer is {}.\",\n",
    "    \"Can you locate a one-move checkmate in the given chess PGN? {}. The correct response is {}.\",\n",
    "    \"Your task is to identify a checkmate that can be achieved in a single move in the chess PGN provided: {}. The answer is {}.\",\n",
    "    \"Find the checkmate that can be executed in one move in the given chess PGN: {}. The correct solution is {}.\",\n",
    "    \"In the following chess PGN, can you determine a checkmate that can be carried out in a single move? {}. The answer is {}.\",\n",
    "    \"Your challenge is to discover a one-move checkmate in the provided chess PGN: {}.The solution is {}.\",\n",
    "    \"Locate a checkmate that can be accomplished in just one move in the given chess PGN {}. The answer is {}.\",\n",
    "    \"Can you spot a single-move checkmate in the following chess PGN? {}. The correct answer is {}.\",\n",
    "    \"Identify the checkmate that can be achieved in a single move in the provided chess PGN.  {}. The solution is {}.\",\n",
    "    \"Your objective is to find a one-move checkmate in the given chess PGN {}. The correct response is {}.\",\n",
    "    \"Discover the checkmate that can be executed in only one move in the following chess PGN {}. The answer is {}.\"\n",
    "]"
   ]
  },
  {
   "cell_type": "code",
   "execution_count": 19,
   "metadata": {},
   "outputs": [],
   "source": [
    "check_mate_in_one_content = []\n",
    "import random\n",
    "for example in a['examples']:\n",
    "    content = random.sample(template, k=1)[0].format(example['input'], example['target'])\n",
    "    check_mate_in_one_content.append(content)"
   ]
  },
  {
   "cell_type": "code",
   "execution_count": 22,
   "metadata": {},
   "outputs": [],
   "source": [
    "data = list(zip(['https://github.com/google/BIG-bench/tree/main/bigbench/benchmark_tasks/checkmate_in_one'] * 3500, check_mate_in_one_content))\n",
    "\n",
    "# 写入JSONL文件\n",
    "with open('check_mate_in_one.jsonl', 'w') as f:\n",
    "    for item in data:\n",
    "        # 将tuple转换为字典\n",
    "        item_dict = {'url': item[0], 'content': item[1]}\n",
    "        # 将字典转换为JSON格式\n",
    "        json_item = json.dumps(item_dict)\n",
    "        # 写入文件并添加换行符\n",
    "        f.write(json_item + '\\n')"
   ]
  },
  {
   "cell_type": "code",
   "execution_count": 11,
   "metadata": {},
   "outputs": [],
   "source": [
    "import json\n",
    "\n",
    "def read_jsonl(file_path):\n",
    "    data = []\n",
    "    with open(file_path, 'r') as f:\n",
    "        for line in f:\n",
    "            # 解析每行的 JSON 对象\n",
    "            obj = json.loads(line.strip())\n",
    "            data.append(obj)\n",
    "    return data\n",
    "\n",
    "data = read_jsonl('/nvme2/xidong_data/chessgpt_data/chess_puzzle/function_puzzle.jsonl')"
   ]
  },
  {
   "cell_type": "code",
   "execution_count": 15,
   "metadata": {},
   "outputs": [],
   "source": [
    "idx = 0\n",
    "for d in data:\n",
    "    if 'legal moves' in d['content']:\n",
    "        d['content'] = d['content'].replace('legal moves', 'legal moves in UCI format')"
   ]
  },
  {
   "cell_type": "code",
   "execution_count": 17,
   "metadata": {},
   "outputs": [],
   "source": [
    "legal_more = read_jsonl('./legal_more.jsonl')"
   ]
  },
  {
   "cell_type": "code",
   "execution_count": 18,
   "metadata": {},
   "outputs": [],
   "source": [
    "data = data + legal_more"
   ]
  },
  {
   "cell_type": "code",
   "execution_count": 20,
   "metadata": {},
   "outputs": [],
   "source": [
    "with open('/nvme2/xidong_data/chessgpt_data/chess_puzzle/function_puzzle_v2.jsonl', \"w\") as f:\n",
    "    for item in data:\n",
    "        json.dump(item, f)\n",
    "        f.write(\"\\n\")"
   ]
  },
  {
   "cell_type": "code",
   "execution_count": 20,
   "metadata": {},
   "outputs": [],
   "source": [
    "import json\n",
    "import re\n",
    "def read_jsonl(file_path):\n",
    "    data = []\n",
    "    with open(file_path, 'r') as f:\n",
    "        for line in f:\n",
    "            # 解析每行的 JSON 对象\n",
    "            obj = json.loads(line.strip())\n",
    "            data.append(obj)\n",
    "    return data\n",
    "\n",
    "data = read_jsonl('/nvme2/xidong_data/chessgpt_data/crawl_blog_data/merged.jsonl')\n",
    "for d in data:\n",
    "    d['content'] = d['content'].replace('\\r\\n', '').replace('&nbsp', '')\n",
    "    d['content'] = re.sub(r\"<a.*?>.*?</a>\", \"\", d['content'], flags=re.DOTALL)\n",
    "    d['content'] = re.sub(r\"{\\[%evp .*?\\]}\", \"\", d['content'], flags=re.DOTALL)\n",
    "    content = d['content']\n",
    "    clist = content.split('\\n')\n",
    "    for idx, c in enumerate(clist):\n",
    "        if clist[idx] == \"<pad>\":\n",
    "            continue\n",
    "        if idx + 2 < len(clist):\n",
    "            if '| photo:' in clist[idx] and '| photo:' in clist[idx+1] and '| photo:' in clist[idx+2]:\n",
    "                clist[idx+1] = \"<pad>\"\n",
    "                clist[idx+2] = \"<pad>\"\n",
    "                \n",
    "    clist = list(filter(lambda x: not x == \"<pad>\", clist))\n",
    "    d['content'] = '\\n'.join(clist)\n",
    "\n",
    "with open('/nvme2/xidong_data/chessgpt_data/crawl_blog_data/merged.jsonl', \"w\") as f:\n",
    "    for item in data:\n",
    "        json.dump(item, f)\n",
    "        f.write(\"\\n\")"
   ]
  },
  {
   "cell_type": "code",
   "execution_count": 77,
   "metadata": {},
   "outputs": [
    {
     "name": "stdout",
     "output_type": "stream",
     "text": [
      "r . b q k b n r\n",
      "p p p p . p p p\n",
      ". . n . . . . .\n",
      ". . . . p . . .\n",
      ". . . . P . . .\n",
      ". . . . . N . .\n",
      "P P P P . P P P\n",
      "R N B Q K B . R\n"
     ]
    }
   ],
   "source": [
    "import io\n",
    "import chess\n",
    "board = chess.Board()\n",
    "pgn = \"1.e4 e5 2.Nf3 Nc6\"\n",
    "game = chess.pgn.read_game(io.StringIO(pgn))\n",
    "\n",
    "# Play through the moves on the board\n",
    "board = game.board()\n",
    "\n",
    "for move in game.mainline_moves():\n",
    "    board.push(move)\n",
    "\n",
    "# Print the final board position\n",
    "print(board)"
   ]
  }
 ],
 "metadata": {
  "kernelspec": {
   "display_name": "chess",
   "language": "python",
   "name": "chess"
  },
  "language_info": {
   "codemirror_mode": {
    "name": "ipython",
    "version": 3
   },
   "file_extension": ".py",
   "mimetype": "text/x-python",
   "name": "python",
   "nbconvert_exporter": "python",
   "pygments_lexer": "ipython3",
   "version": "3.10.11"
  },
  "orig_nbformat": 4
 },
 "nbformat": 4,
 "nbformat_minor": 2
}
